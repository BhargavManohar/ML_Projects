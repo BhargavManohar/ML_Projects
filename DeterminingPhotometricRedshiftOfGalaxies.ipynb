{
  "nbformat": 4,
  "nbformat_minor": 0,
  "metadata": {
    "colab": {
      "provenance": []
    },
    "kernelspec": {
      "name": "python3",
      "display_name": "Python 3"
    },
    "language_info": {
      "name": "python"
    }
  },
  "cells": [
    {
      "cell_type": "code",
      "execution_count": 16,
      "metadata": {
        "id": "tTVZzA7CJp_a"
      },
      "outputs": [],
      "source": [
        "import numpy as np\n",
        "from matplotlib import pyplot as plt\n",
        "from sklearn.model_selection import KFold\n",
        "from sklearn.tree import DecisionTreeRegressor\n",
        "\n",
        "def get_features_targets(data):\n",
        "  features = np.zeros((data.shape[0], 4))\n",
        "  features[:, 0] = data['u'] - data['g']\n",
        "  features[:, 1] = data['g'] - data['r']\n",
        "  features[:, 2] = data['r'] - data['i']\n",
        "  features[:, 3] = data['i'] - data['z']\n",
        "  targets = data['redshift']\n",
        "  return features, targets\n",
        "\n",
        "def median_diff(predicted, actual):\n",
        "  return np.median(np.abs(predicted - actual))\n",
        "\n",
        "# function that splits the data into training and testing subsets\n",
        "# trains the model and returns the prediction accuracy with median_diff\n",
        "def validate_model(model, features, targets):\n",
        "  # split the data into training and testing features and predictions\n",
        "  split = 2*features.shape[0]//3\n",
        "  train_features, test_features = features[:split], features[split:]\n",
        "  train_targets, test_targets = targets[:split], targets[split:]\n",
        "\n",
        "  # train the model\n",
        "  model.fit(train_features, train_targets)\n",
        "  # get the predicted_redshifts\n",
        "  predictions = model.predict(test_features)\n",
        "  # use median_diff function to calculate the accuracy\n",
        "  return median_diff(test_targets, predictions)\n"
      ]
    },
    {
      "cell_type": "code",
      "source": [
        "def accuracy_by_treedepth(features, targets, depths):\n",
        "  # split the data into testing and training sets\n",
        "  split = features.shape[0]//2\n",
        "  train_features, test_features = features[:split], features[split:]\n",
        "  train_targets, test_targets = targets[:split], targets[split:]\n",
        "\n",
        "  # initialise arrays or lists to store the accuracies for the below loop\n",
        "  train_diffs = []\n",
        "  test_diffs = []\n",
        "  # loop through depths\n",
        "  for depth in depths:\n",
        "    # initialize model with the maximum depth.\n",
        "    dtr = DecisionTreeRegressor(max_depth=depth)\n",
        "\n",
        "    # train the model using the training set\n",
        "    dtr.fit(train_features, train_targets)\n",
        "    # get the predictions for the training set and calculate their median_diff\n",
        "    predictions = dtr.predict(train_features)\n",
        "    train_diffs.append(median_diff(train_targets, predictions))\n",
        "\n",
        "    # get the predictions for the testing set and calculate their median_diff\n",
        "    predictions = dtr.predict(test_features)\n",
        "    test_diffs.append(median_diff(test_targets, predictions))\n",
        "\n",
        "  # return the accuracies for the training and testing sets\n",
        "  return train_diffs, test_diffs\n"
      ],
      "metadata": {
        "id": "M5UH2WPxNtxC"
      },
      "execution_count": 17,
      "outputs": []
    },
    {
      "cell_type": "code",
      "source": [
        "def cross_validate_model(model, features, targets, k):\n",
        "  kf = KFold(n_splits=k, shuffle=True)\n",
        "\n",
        "  # initialise a list to collect median_diffs for each iteration of the loop below\n",
        "  diffs = []\n",
        "\n",
        "  for train_indices, test_indices in kf.split(features):\n",
        "    train_features, test_features = features[train_indices], features[test_indices]\n",
        "    train_targets, test_targets = targets[train_indices], targets[test_indices]\n",
        "\n",
        "    # fit the model for the current set\n",
        "    model.fit(train_features, train_targets)\n",
        "\n",
        "    # predict using the model\n",
        "    predictions = model.predict(test_features)\n",
        "\n",
        "    # calculate the median_diff from predicted values and append to results array\n",
        "    diffs.append(median_diff(predictions, test_targets))\n",
        "\n",
        "  # return the list with your median difference values\n",
        "  return diffs\n"
      ],
      "metadata": {
        "id": "7q1_7I6UQ4kA"
      },
      "execution_count": 25,
      "outputs": []
    },
    {
      "cell_type": "code",
      "source": [
        "def cross_validate_predictions(model, features, targets, k):\n",
        "  kf = KFold(n_splits=k, shuffle=True)\n",
        "\n",
        "  # declare an array for predicted redshifts from each iteration\n",
        "  all_predictions = np.zeros_like(targets)\n",
        "\n",
        "  for train_indices, test_indices in kf.split(features):\n",
        "    # split the data into training and testing\n",
        "    train_features, test_features = features[train_indices], features[test_indices]\n",
        "    train_targets, test_targets = targets[train_indices], targets[test_indices]\n",
        "\n",
        "    # fit the model for the current set\n",
        "    model.fit(train_features, train_targets)\n",
        "\n",
        "    # predict using the model\n",
        "    predictions = model.predict(test_features)\n",
        "\n",
        "    # put the predicted values in the all_predictions array defined above\n",
        "    all_predictions[test_indices] = predictions\n",
        "\n",
        "  # return the predictions\n",
        "  return all_predictions\n"
      ],
      "metadata": {
        "id": "L2eujTZMPCvK"
      },
      "execution_count": 18,
      "outputs": []
    },
    {
      "cell_type": "code",
      "source": [
        "def split_galaxies_qsos(data):\n",
        "  # split the data into galaxies and qsos arrays\n",
        "  galaxies = data[data['spec_class'] == b'GALAXY']\n",
        "  qsos = data[data['spec_class'] == b'QSO']\n",
        "\n",
        "  # return the seperated galaxies and qsos arrays\n",
        "  return galaxies, qsos\n"
      ],
      "metadata": {
        "id": "15zzQDqbPr3A"
      },
      "execution_count": 19,
      "outputs": []
    },
    {
      "cell_type": "code",
      "source": [
        "\n",
        "def cross_validate_median_diff(data):\n",
        "  features, targets = get_features_targets(data)\n",
        "  dtr = DecisionTreeRegressor(max_depth=19)\n",
        "  return np.mean(cross_validate_model(dtr, features, targets, 10))\n"
      ],
      "metadata": {
        "id": "hj3IMgN4Pttj"
      },
      "execution_count": 20,
      "outputs": []
    },
    {
      "cell_type": "code",
      "source": [
        "if __name__ == \"__main__\":\n",
        "  data = np.load('sdss_galaxy_colors.npy')\n",
        "  features, targets = get_features_targets(data)\n",
        "\n",
        "  # initialize model\n",
        "  dtr = DecisionTreeRegressor()\n",
        "\n",
        "  # validate the model and print the med_diff\n",
        "  diff = validate_model(dtr, features, targets)\n",
        "  print('Median difference: {:f}'.format(diff))\n"
      ],
      "metadata": {
        "id": "GL8Z3AYvNEsC"
      },
      "execution_count": null,
      "outputs": []
    },
    {
      "cell_type": "code",
      "source": [
        "\n",
        "  data = np.load('sdss_galaxy_colors.npy')\n",
        "  # Get a colour map\n",
        "  cmap = plt.get_cmap('YlOrRd')\n",
        "\n",
        "  # Define our colour indexes u-g and r-i\n",
        "  u_g = data['u'] - data['g']\n",
        "  r_i = data['r'] - data['i']\n",
        "  # Make a redshift array\n",
        "  redshift = data['redshift']\n",
        "  # Create the plot with plt.scatter and plt.colorbar\n",
        "  plot = plt.scatter(u_g, r_i, s=0.5, lw=0, c=redshift, cmap=cmap)\n",
        "\n",
        "  cb = plt.colorbar(plot)\n",
        "  cb.set_label('Redshift')\n",
        "  # Define your axis labels and plot title\n",
        "  plt.xlabel('Colour index  u-g')\n",
        "  plt.ylabel('Colour index  r-i')\n",
        "  plt.title('Redshift (colour) u-g versus r-i')\n",
        "  # Set any axis limits\n",
        "  plt.xlim(-0.5, 2.5)\n",
        "  plt.ylim(-0.5, 1)\n",
        "  plt.show()\n"
      ],
      "metadata": {
        "id": "b3Q_p6MFQNxA"
      },
      "execution_count": null,
      "outputs": []
    },
    {
      "cell_type": "code",
      "source": [
        "\n",
        "  # Generate several depths to test\n",
        "  tree_depths = [i for i in range(1, 36, 2)]\n",
        "\n",
        "  # Call the function\n",
        "  train_med_diffs, test_med_diffs = accuracy_by_treedepth(features, targets, tree_depths)\n",
        "  print(\"Depth with lowest median difference : {}\".format(tree_depths[test_med_diffs.index(min(test_med_diffs))]))\n",
        "\n",
        "  # Plot the results\n",
        "  train_plot = plt.plot(tree_depths, train_med_diffs, label='Training set')\n",
        "  test_plot = plt.plot(tree_depths, test_med_diffs, label='Validation set')\n",
        "  plt.xlabel(\"Maximum Tree Depth\")\n",
        "  plt.ylabel(\"Median of Differences\")\n",
        "  plt.legend()\n",
        "  plt.show()\n"
      ],
      "metadata": {
        "id": "CljllSD1QSHY"
      },
      "execution_count": null,
      "outputs": []
    },
    {
      "cell_type": "code",
      "source": [
        "  # initialize model\n",
        "  dtr = DecisionTreeRegressor(max_depth=19)\n",
        "\n",
        "  # call your cross validation function\n",
        "  predictions = cross_validate_predictions(dtr, features, targets, 10)\n",
        "\n",
        "  # calculate and print the rmsd as a sanity check\n",
        "  diffs = median_diff(predictions, targets)\n",
        "  print('Median difference: {:.3f}'.format(diffs))\n",
        "\n",
        "  # plot the results to see how well our model looks\n",
        "  plt.scatter(targets, predictions, s=0.4)\n",
        "  plt.xlim((0, targets.max()))\n",
        "  plt.ylim((0, predictions.max()))\n",
        "  plt.xlabel('Measured Redshift')\n",
        "  plt.ylabel('Predicted Redshift')\n",
        "  plt.show()"
      ],
      "metadata": {
        "id": "e_mz46D7PNfx"
      },
      "execution_count": null,
      "outputs": []
    }
  ]
}